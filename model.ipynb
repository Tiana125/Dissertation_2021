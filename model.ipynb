{
 "cells": [
  {
   "cell_type": "code",
   "execution_count": 1,
   "metadata": {},
   "outputs": [],
   "source": [
    "import pandas as pd\n",
    "import matplotlib.pyplot as plt\n",
    "import numpy as np\n",
    "%matplotlib inline\n",
    "\n",
    "import re\n",
    "import glob\n",
    "\n"
   ]
  },
  {
   "cell_type": "code",
   "execution_count": null,
   "metadata": {},
   "outputs": [],
   "source": [
    "activity_data = np.load(\"./Activity Index/activity_list_full_flock_bbox_radius.npy\")"
   ]
  },
  {
   "cell_type": "code",
   "execution_count": null,
   "metadata": {},
   "outputs": [],
   "source": [
    "plt.plot(activity_data)\n",
    "plt.show()"
   ]
  },
  {
   "cell_type": "code",
   "execution_count": null,
   "metadata": {},
   "outputs": [],
   "source": []
  },
  {
   "cell_type": "code",
   "execution_count": 89,
   "metadata": {},
   "outputs": [],
   "source": [
    "input_21Sep=pd.read_csv(\"data/21Sep_summary.csv\",header=2,dayfirst=True) #ASK109"
   ]
  },
  {
   "cell_type": "markdown",
   "metadata": {},
   "source": [
    "Reduce original data to only necessary columns: "
   ]
  },
  {
   "cell_type": "code",
   "execution_count": 90,
   "metadata": {},
   "outputs": [
    {
     "data": {
      "text/html": [
       "<div>\n",
       "<style scoped>\n",
       "    .dataframe tbody tr th:only-of-type {\n",
       "        vertical-align: middle;\n",
       "    }\n",
       "\n",
       "    .dataframe tbody tr th {\n",
       "        vertical-align: top;\n",
       "    }\n",
       "\n",
       "    .dataframe thead th {\n",
       "        text-align: right;\n",
       "    }\n",
       "</style>\n",
       "<table border=\"1\" class=\"dataframe\">\n",
       "  <thead>\n",
       "    <tr style=\"text-align: right;\">\n",
       "      <th></th>\n",
       "      <th>Date</th>\n",
       "      <th>Mortality Rate</th>\n",
       "      <th>Mortality</th>\n",
       "      <th>Guideline Average Shed Temperature</th>\n",
       "      <th>Water Usage(L)</th>\n",
       "      <th>Feed Usage(grms/bird)</th>\n",
       "    </tr>\n",
       "  </thead>\n",
       "  <tbody>\n",
       "    <tr>\n",
       "      <th>0</th>\n",
       "      <td>2020-09-21</td>\n",
       "      <td>0.00%</td>\n",
       "      <td>0</td>\n",
       "      <td>33.0</td>\n",
       "      <td>0</td>\n",
       "      <td>NaN</td>\n",
       "    </tr>\n",
       "    <tr>\n",
       "      <th>1</th>\n",
       "      <td>2020-09-22</td>\n",
       "      <td>0.13%</td>\n",
       "      <td>16</td>\n",
       "      <td>32.4</td>\n",
       "      <td>14</td>\n",
       "      <td>NaN</td>\n",
       "    </tr>\n",
       "    <tr>\n",
       "      <th>2</th>\n",
       "      <td>2020-09-23</td>\n",
       "      <td>0.16%</td>\n",
       "      <td>36</td>\n",
       "      <td>31.8</td>\n",
       "      <td>19</td>\n",
       "      <td>NaN</td>\n",
       "    </tr>\n",
       "    <tr>\n",
       "      <th>3</th>\n",
       "      <td>2020-09-24</td>\n",
       "      <td>0.25%</td>\n",
       "      <td>68</td>\n",
       "      <td>31.2</td>\n",
       "      <td>29</td>\n",
       "      <td>2</td>\n",
       "    </tr>\n",
       "    <tr>\n",
       "      <th>4</th>\n",
       "      <td>2020-09-25</td>\n",
       "      <td>0.03%</td>\n",
       "      <td>72</td>\n",
       "      <td>30.8</td>\n",
       "      <td>39</td>\n",
       "      <td>NaN</td>\n",
       "    </tr>\n",
       "  </tbody>\n",
       "</table>\n",
       "</div>"
      ],
      "text/plain": [
       "        Date Mortality Rate  Mortality  Guideline Average Shed Temperature  \\\n",
       "0 2020-09-21          0.00%          0                                33.0   \n",
       "1 2020-09-22          0.13%         16                                32.4   \n",
       "2 2020-09-23          0.16%         36                                31.8   \n",
       "3 2020-09-24          0.25%         68                                31.2   \n",
       "4 2020-09-25          0.03%         72                                30.8   \n",
       "\n",
       "  Water Usage(L) Feed Usage(grms/bird)  \n",
       "0              0                   NaN  \n",
       "1             14                   NaN  \n",
       "2             19                   NaN  \n",
       "3             29                     2  \n",
       "4             39                   NaN  "
      ]
     },
     "execution_count": 90,
     "metadata": {},
     "output_type": "execute_result"
    }
   ],
   "source": [
    "input_21Sep = input_21Sep[[\"O/B's\",\"Unnamed: 6\",\"Unnamed: 7\",\"Unnamed: 8\",\"Unnamed: 11\",\"Unnamed: 18\"]]\n",
    "input_21Sep.columns = [\"Date\",\"Mortality Rate\", \"Mortality\", \"Guideline Average Shed Temperature\", \"Water Usage(L)\", \"Feed Usage(grms/bird)\"]\n",
    "# input_21Sep.Date = input_21Sep.Date.astype('datetime64[ns]')\n",
    "input_21Sep.Date = pd.to_datetime(input_21Sep.Date, dayfirst=True)\n",
    "input_21Sep.head()"
   ]
  },
  {
   "cell_type": "markdown",
   "metadata": {},
   "source": [
    "Water and feed usage are low in the first few days because farmers would ditribute them on the ground all over the shed."
   ]
  },
  {
   "cell_type": "code",
   "execution_count": 4,
   "metadata": {},
   "outputs": [
    {
     "data": {
      "text/html": [
       "<div>\n",
       "<style scoped>\n",
       "    .dataframe tbody tr th:only-of-type {\n",
       "        vertical-align: middle;\n",
       "    }\n",
       "\n",
       "    .dataframe tbody tr th {\n",
       "        vertical-align: top;\n",
       "    }\n",
       "\n",
       "    .dataframe thead th {\n",
       "        text-align: right;\n",
       "    }\n",
       "</style>\n",
       "<table border=\"1\" class=\"dataframe\">\n",
       "  <thead>\n",
       "    <tr style=\"text-align: right;\">\n",
       "      <th></th>\n",
       "      <th>Timestamp03</th>\n",
       "      <th>Temperature (°C)</th>\n",
       "      <th>Relative Humidity (%)</th>\n",
       "      <th>Timestamp05</th>\n",
       "      <th>Temperature (°C)</th>\n",
       "      <th>Relative Humidity (%)</th>\n",
       "      <th>Timestamp06</th>\n",
       "      <th>Temperature (°C)</th>\n",
       "      <th>Relative Humidity (%)</th>\n",
       "      <th>Timestamp07</th>\n",
       "      <th>...</th>\n",
       "      <th>Relative Humidity (%)</th>\n",
       "      <th>Timestamp15</th>\n",
       "      <th>Temperature (°C)</th>\n",
       "      <th>Relative Humidity (%)</th>\n",
       "      <th>Timestamp16</th>\n",
       "      <th>Temperature (°C)</th>\n",
       "      <th>Relative Humidity (%)</th>\n",
       "      <th>Timestamp18</th>\n",
       "      <th>Temperature (°C)</th>\n",
       "      <th>Relative Humidity (%)</th>\n",
       "    </tr>\n",
       "  </thead>\n",
       "  <tbody>\n",
       "    <tr>\n",
       "      <th>0</th>\n",
       "      <td>2020-10-03 14:44:00</td>\n",
       "      <td>24.5667</td>\n",
       "      <td>73.68</td>\n",
       "      <td>2020-10-03 14:44:00</td>\n",
       "      <td>17.8889</td>\n",
       "      <td>73.74</td>\n",
       "      <td>2020-10-03 14:44:00</td>\n",
       "      <td>26.8611</td>\n",
       "      <td>78.59</td>\n",
       "      <td>2020-10-03 14:44:00</td>\n",
       "      <td>...</td>\n",
       "      <td>69.26</td>\n",
       "      <td>2020-10-03 14:44:00</td>\n",
       "      <td>24.8167</td>\n",
       "      <td>67.61</td>\n",
       "      <td>2020-10-03 14:44:00</td>\n",
       "      <td>24.6111</td>\n",
       "      <td>67.43</td>\n",
       "      <td>2020-10-03 14:44:00</td>\n",
       "      <td>23.9333</td>\n",
       "      <td>69.90</td>\n",
       "    </tr>\n",
       "    <tr>\n",
       "      <th>1</th>\n",
       "      <td>2020-10-03 14:45:00</td>\n",
       "      <td>24.6444</td>\n",
       "      <td>73.22</td>\n",
       "      <td>2020-10-03 14:45:00</td>\n",
       "      <td>17.9000</td>\n",
       "      <td>73.71</td>\n",
       "      <td>2020-10-03 14:45:00</td>\n",
       "      <td>26.9389</td>\n",
       "      <td>74.51</td>\n",
       "      <td>2020-10-03 14:45:00</td>\n",
       "      <td>...</td>\n",
       "      <td>69.47</td>\n",
       "      <td>2020-10-03 14:45:00</td>\n",
       "      <td>24.7944</td>\n",
       "      <td>66.81</td>\n",
       "      <td>2020-10-03 14:45:00</td>\n",
       "      <td>24.6222</td>\n",
       "      <td>67.49</td>\n",
       "      <td>2020-10-03 14:45:00</td>\n",
       "      <td>23.9778</td>\n",
       "      <td>69.96</td>\n",
       "    </tr>\n",
       "    <tr>\n",
       "      <th>2</th>\n",
       "      <td>2020-10-03 14:46:00</td>\n",
       "      <td>24.6944</td>\n",
       "      <td>72.43</td>\n",
       "      <td>2020-10-03 14:46:00</td>\n",
       "      <td>17.9056</td>\n",
       "      <td>73.68</td>\n",
       "      <td>2020-10-03 14:46:00</td>\n",
       "      <td>27.7833</td>\n",
       "      <td>73.86</td>\n",
       "      <td>2020-10-03 14:46:00</td>\n",
       "      <td>...</td>\n",
       "      <td>69.20</td>\n",
       "      <td>2020-10-03 14:46:00</td>\n",
       "      <td>24.7833</td>\n",
       "      <td>67.12</td>\n",
       "      <td>2020-10-03 14:46:00</td>\n",
       "      <td>24.6333</td>\n",
       "      <td>67.30</td>\n",
       "      <td>2020-10-03 14:46:00</td>\n",
       "      <td>24.0222</td>\n",
       "      <td>69.78</td>\n",
       "    </tr>\n",
       "    <tr>\n",
       "      <th>3</th>\n",
       "      <td>2020-10-03 14:47:00</td>\n",
       "      <td>24.7167</td>\n",
       "      <td>72.16</td>\n",
       "      <td>2020-10-03 14:47:00</td>\n",
       "      <td>17.9056</td>\n",
       "      <td>73.68</td>\n",
       "      <td>2020-10-03 14:47:00</td>\n",
       "      <td>28.3889</td>\n",
       "      <td>66.78</td>\n",
       "      <td>2020-10-03 14:47:00</td>\n",
       "      <td>...</td>\n",
       "      <td>69.29</td>\n",
       "      <td>2020-10-03 14:47:00</td>\n",
       "      <td>24.7722</td>\n",
       "      <td>67.27</td>\n",
       "      <td>2020-10-03 14:47:00</td>\n",
       "      <td>24.6444</td>\n",
       "      <td>67.55</td>\n",
       "      <td>2020-10-03 14:47:00</td>\n",
       "      <td>24.0556</td>\n",
       "      <td>70.42</td>\n",
       "    </tr>\n",
       "    <tr>\n",
       "      <th>4</th>\n",
       "      <td>2020-10-03 14:48:00</td>\n",
       "      <td>24.7722</td>\n",
       "      <td>73.07</td>\n",
       "      <td>2020-10-03 14:48:00</td>\n",
       "      <td>17.9167</td>\n",
       "      <td>73.62</td>\n",
       "      <td>2020-10-03 14:48:00</td>\n",
       "      <td>28.3889</td>\n",
       "      <td>65.23</td>\n",
       "      <td>2020-10-03 14:48:00</td>\n",
       "      <td>...</td>\n",
       "      <td>69.62</td>\n",
       "      <td>2020-10-03 14:48:00</td>\n",
       "      <td>24.7500</td>\n",
       "      <td>67.33</td>\n",
       "      <td>2020-10-03 14:48:00</td>\n",
       "      <td>24.6667</td>\n",
       "      <td>67.70</td>\n",
       "      <td>2020-10-03 14:48:00</td>\n",
       "      <td>24.1389</td>\n",
       "      <td>69.96</td>\n",
       "    </tr>\n",
       "  </tbody>\n",
       "</table>\n",
       "<p>5 rows × 36 columns</p>\n",
       "</div>"
      ],
      "text/plain": [
       "          Timestamp03 Temperature (°C)  Relative Humidity (%)  \\\n",
       "0 2020-10-03 14:44:00          24.5667                  73.68   \n",
       "1 2020-10-03 14:45:00          24.6444                  73.22   \n",
       "2 2020-10-03 14:46:00          24.6944                  72.43   \n",
       "3 2020-10-03 14:47:00          24.7167                  72.16   \n",
       "4 2020-10-03 14:48:00          24.7722                  73.07   \n",
       "\n",
       "          Timestamp05 Temperature (°C)  Relative Humidity (%)  \\\n",
       "0 2020-10-03 14:44:00          17.8889                  73.74   \n",
       "1 2020-10-03 14:45:00          17.9000                  73.71   \n",
       "2 2020-10-03 14:46:00          17.9056                  73.68   \n",
       "3 2020-10-03 14:47:00          17.9056                  73.68   \n",
       "4 2020-10-03 14:48:00          17.9167                  73.62   \n",
       "\n",
       "          Timestamp06 Temperature (°C)  Relative Humidity (%)  \\\n",
       "0 2020-10-03 14:44:00          26.8611                  78.59   \n",
       "1 2020-10-03 14:45:00          26.9389                  74.51   \n",
       "2 2020-10-03 14:46:00          27.7833                  73.86   \n",
       "3 2020-10-03 14:47:00          28.3889                  66.78   \n",
       "4 2020-10-03 14:48:00          28.3889                  65.23   \n",
       "\n",
       "          Timestamp07  ...  Relative Humidity (%)         Timestamp15  \\\n",
       "0 2020-10-03 14:44:00  ...                  69.26 2020-10-03 14:44:00   \n",
       "1 2020-10-03 14:45:00  ...                  69.47 2020-10-03 14:45:00   \n",
       "2 2020-10-03 14:46:00  ...                  69.20 2020-10-03 14:46:00   \n",
       "3 2020-10-03 14:47:00  ...                  69.29 2020-10-03 14:47:00   \n",
       "4 2020-10-03 14:48:00  ...                  69.62 2020-10-03 14:48:00   \n",
       "\n",
       "  Temperature (°C)  Relative Humidity (%)         Timestamp16  \\\n",
       "0          24.8167                  67.61 2020-10-03 14:44:00   \n",
       "1          24.7944                  66.81 2020-10-03 14:45:00   \n",
       "2          24.7833                  67.12 2020-10-03 14:46:00   \n",
       "3          24.7722                  67.27 2020-10-03 14:47:00   \n",
       "4          24.7500                  67.33 2020-10-03 14:48:00   \n",
       "\n",
       "  Temperature (°C)  Relative Humidity (%)         Timestamp18  \\\n",
       "0          24.6111                  67.43 2020-10-03 14:44:00   \n",
       "1          24.6222                  67.49 2020-10-03 14:45:00   \n",
       "2          24.6333                  67.30 2020-10-03 14:46:00   \n",
       "3          24.6444                  67.55 2020-10-03 14:47:00   \n",
       "4          24.6667                  67.70 2020-10-03 14:48:00   \n",
       "\n",
       "  Temperature (°C)  Relative Humidity (%)  \n",
       "0          23.9333                  69.90  \n",
       "1          23.9778                  69.96  \n",
       "2          24.0222                  69.78  \n",
       "3          24.0556                  70.42  \n",
       "4          24.1389                  69.96  \n",
       "\n",
       "[5 rows x 36 columns]"
      ]
     },
     "execution_count": 4,
     "metadata": {},
     "output_type": "execute_result"
    }
   ],
   "source": [
    "df0 = pd.read_csv(\"data/HumidTemp/mench-siteb-house2 03.csv\")\n",
    "\n",
    "df0['Timestamp']= pd.to_datetime(df0['Timestamp'])\n",
    "df0=df0.rename(columns = {'Timestamp':'Timestamp'+re.findall(r'\\d\\d',\"data/HumidTemp/mench-siteb-house2 03.csv\")[0]})\n",
    "\n",
    "for i in glob.glob('data/HumidTemp/*.csv')[1:]:\n",
    "    df1 = pd.read_csv(i)\n",
    "    \n",
    "    df1['Timestamp']= pd.to_datetime(df1['Timestamp'])\n",
    "    \n",
    "    prev_filename = glob.glob('data/HumidTemp/*.csv')[glob.glob('data/HumidTemp/*.csv').index(i)-1]\n",
    "    \n",
    "    if df0['Timestamp'+re.findall(r'\\d\\d',prev_filename)[0]].min() <= df1['Timestamp'].min():\n",
    "        dftimestamp_later = df1['Timestamp'].min()\n",
    "        df0 = df0[df0['Timestamp'+re.findall(r'\\d\\d',prev_filename)[0]]>=dftimestamp_later].reset_index(drop=True)\n",
    "\n",
    "    else:\n",
    "        dftimestamp_later = df0['Timestamp'+re.findall(r'\\d\\d',prev_filename)[0]].min()\n",
    "        df1 = df1[df1[\"Timestamp\"]>=dftimestamp_later].reset_index(drop=True)\n",
    "\n",
    "    df_fin = pd.concat((df0,df1),axis=1)\n",
    "    df_fin=df_fin.rename(columns = {'Timestamp':'Timestamp'+re.findall(r'\\d\\d',i)[0]})\n",
    "\n",
    "    df0=df_fin\n",
    "    \n",
    "\n",
    "df_fin.head()\n"
   ]
  },
  {
   "cell_type": "code",
   "execution_count": 5,
   "metadata": {},
   "outputs": [],
   "source": [
    "df_fin_copy = df_fin\n",
    "# df_fin = df_fin_copy"
   ]
  },
  {
   "cell_type": "code",
   "execution_count": 6,
   "metadata": {},
   "outputs": [],
   "source": [
    "df_fin_time = df_fin.iloc[:, 0] \n",
    "\n",
    "df_fin = df_fin.drop((df_fin.filter(regex='Timestamp')).columns, axis = 1)\n",
    "\n",
    "df_fin.insert(0, column='Timestamp', value=df_fin_time)"
   ]
  },
  {
   "cell_type": "markdown",
   "metadata": {},
   "source": [
    "Sensor 06 (third column) has the last day data missing"
   ]
  },
  {
   "cell_type": "code",
   "execution_count": 7,
   "metadata": {},
   "outputs": [],
   "source": [
    "#calc average , min, max, med temp\n",
    "# reduced to only 8 entries temp&hum per day\n",
    "df_daily = df_fin.resample('D', on='Timestamp').mean().reset_index()\n",
    "\n",
    "import statistics\n",
    "\n",
    "column_names = ['Average Temperature','Median Temperature','Min Temperature','Max Temperature',\n",
    "               'Average Humidity','Median Humidity','Min Humidity','Max Humidity']\n",
    "regex_for_original = ['Temperature','Temperature','Temperature','Temperature',\n",
    "                      'Humidity','Humidity','Humidity','Humidity']\n",
    "operations = [statistics.mean, statistics.median,min,max,statistics.mean, statistics.median,min,max]\n",
    "for i,j,k in zip(column_names,regex_for_original,operations):\n",
    "    df_daily.insert(1, column=i, \n",
    "                      value=pd.DataFrame(df_daily.filter(regex=j).values).apply(k, axis =1))\n",
    "\n",
    "df_daily = df_daily.loc[:, :'Average Temperature']"
   ]
  },
  {
   "cell_type": "code",
   "execution_count": 130,
   "metadata": {},
   "outputs": [],
   "source": [
    "# idea is to visualise how the temp and humid are changing throughout the day, taking into account spatial view\n",
    "\n",
    "# df_spatial = df_fin.resample('D', on='Timestamp').mean().reset_index()\n",
    "\n",
    "# column_names = ['Average Temperature','Median Temperature','Min Temperature','Max Temperature',\n",
    "#                'Average Humidity','Median Humidity','Min Humidity','Max Humidity']\n",
    "# regex_for_original = ['Temperature','Temperature','Temperature','Temperature',\n",
    "#                       'Humidity','Humidity','Humidity','Humidity']\n",
    "# operations = [statistics.mean, statistics.median,min,max,statistics.mean, statistics.median,min,max]\n",
    "# for i,j,k in zip(column_names,regex_for_original,operations):\n",
    "#     df_spatial.insert(1, column=i, value=pd.DataFrame(df_spatial.filter(regex=j).values).apply(k, axis =0))\n",
    "\n",
    "# df_spatial = df_spatial.loc[:, :'Average Temperature']"
   ]
  },
  {
   "cell_type": "code",
   "execution_count": 115,
   "metadata": {},
   "outputs": [
    {
     "data": {
      "text/plain": [
       "<AxesSubplot:>"
      ]
     },
     "execution_count": 115,
     "metadata": {},
     "output_type": "execute_result"
    },
    {
     "data": {
      "image/png": "[encoded data removed]",
      "text/plain": [
       "<Figure size 432x288 with 1 Axes>"
      ]
     },
     "metadata": {
      "needs_background": "light"
     },
     "output_type": "display_data"
    }
   ],
   "source": [
    "# df_fin.resample('D', on='Timestamp').mean().reset_index().iloc[1].drop(\"Timestamp\").plot()"
   ]
  },
  {
   "cell_type": "markdown",
   "metadata": {},
   "source": [
    "Now we have daily temp and humid range\n",
    "Now aggregate the guideline temp with actual ones: \n",
    "\n",
    "FLOCK 1: 21/09/20 - 20/11/20"
   ]
  },
  {
   "cell_type": "code",
   "execution_count": 92,
   "metadata": {},
   "outputs": [],
   "source": [
    "f1 = df_daily.loc[(df_daily[\"Timestamp\"]>=\"2020-09-21\") & (df_daily[\"Timestamp\"]<=\"2020-11-20\")][['Timestamp','Average Temperature']]\n",
    "f1_temp = pd.merge(input_21Sep[[\"Date\",\"Guideline Average Shed Temperature\"]], f1, left_on=\"Date\", right_on=\"Timestamp\", how = \"left\").drop(\"Timestamp\",axis=1)"
   ]
  },
  {
   "cell_type": "code",
   "execution_count": 145,
   "metadata": {},
   "outputs": [
    {
     "data": {
      "image/png": "[encoded data removed]",
      "text/plain": [
       "<Figure size 432x288 with 1 Axes>"
      ]
     },
     "metadata": {
      "needs_background": "light"
     },
     "output_type": "display_data"
    }
   ],
   "source": [
    "import matplotlib.dates as mdates\n",
    "import matplotlib.ticker as mticker\n",
    "ax = plt.gca()\n",
    "ax.xaxis.set_major_formatter(mdates.DateFormatter('%Y-%m'))\n",
    "# ax.tick_params(pad=10)\n",
    "\n",
    "ax.xaxis.set_major_locator((mdates.MonthLocator()))\n",
    "ax.xaxis.set_minor_locator((mdates.MonthLocator(bymonthday=15)))\n",
    "\n",
    "\n",
    "plt.plot(f1_temp.Date, f1_temp['Guideline Average Shed Temperature'], linewidth=1)\n",
    "plt.scatter(f1_temp.Date, f1_temp['Average Temperature'], s = 5)\n",
    "plt.show() "
   ]
  },
  {
   "cell_type": "markdown",
   "metadata": {},
   "source": [
    "Actual temperature varies from guideline, where (15-10-2020, 24 days ) the actual temp is higher than guideline. \n",
    "\n",
    "earlier half is lower than guideline, later half hotter. "
   ]
  },
  {
   "cell_type": "code",
   "execution_count": null,
   "metadata": {},
   "outputs": [],
   "source": []
  },
  {
   "cell_type": "code",
   "execution_count": null,
   "metadata": {},
   "outputs": [],
   "source": []
  },
  {
   "cell_type": "code",
   "execution_count": null,
   "metadata": {},
   "outputs": [],
   "source": []
  },
  {
   "cell_type": "code",
   "execution_count": null,
   "metadata": {},
   "outputs": [],
   "source": []
  },
  {
   "cell_type": "code",
   "execution_count": null,
   "metadata": {},
   "outputs": [],
   "source": [
    "data_collection = pd.read_csv(\"data collection sheets/Data collection_ Menchine site B shed 2, 2020-07-20 - 2020-09-09 - Exp 1.csv\",\n",
    "                             skiprows=[0,1,2])"
   ]
  },
  {
   "cell_type": "code",
   "execution_count": null,
   "metadata": {},
   "outputs": [],
   "source": [
    "data_collection2.head()"
   ]
  },
  {
   "cell_type": "code",
   "execution_count": null,
   "metadata": {},
   "outputs": [],
   "source": [
    "# plt.scatter(data_collection[data_collection[\"Chicken (e.g. #1)\"] == \"#1\"][\"Date\"],\n",
    "#          data_collection[data_collection[\"Chicken (e.g. #1)\"] == \"#1\"][\"Farm scale weight\"])\n",
    "data_collection[data_collection[\"Chicken (e.g. #1)\"] == \"#1\"][\"Farm scale weight\"].plot()\n",
    "\n",
    "plt.title(\"Chicken weight during 2020-07-20 - 2020-09-09, 49 days in total\")\n",
    "# data_collection[data_collection[\"Chicken (e.g. #1)\"] == \"#1\"][\"Farm scale weight\"].shape"
   ]
  },
  {
   "cell_type": "code",
   "execution_count": null,
   "metadata": {},
   "outputs": [],
   "source": [
    "data_collection2 = pd.read_csv(\"data collection sheets/Data collection_ Menchine site B shed 2, 2020-09-21 - 2020-11-09 - Exp 1.csv\",\n",
    "                             skiprows=[0,1,2])"
   ]
  },
  {
   "cell_type": "code",
   "execution_count": null,
   "metadata": {},
   "outputs": [],
   "source": [
    "data_collection2[data_collection2[\"Chicken (e.g. #1)\"] == \"#1\"][\"Farm scale weight\"].plot()\n",
    "\n",
    "plt.title(\"Chicken weight during 2020-09-21 - 2020-11-09, 42 days in total\")\n",
    "# data_collection2[data_collection2[\"Chicken (e.g. #1)\"] == \"#1\"][\"Farm scale weight\"].shape"
   ]
  },
  {
   "cell_type": "code",
   "execution_count": null,
   "metadata": {},
   "outputs": [],
   "source": [
    "data_collection3 = pd.read_csv(\"data collection sheets/Data Collection_ Menchine site B shed 2, 2020-11-26 - 2021-01-20 - Exp 1.csv\",\n",
    "                             skiprows=[0,1,2])"
   ]
  },
  {
   "cell_type": "code",
   "execution_count": null,
   "metadata": {},
   "outputs": [],
   "source": [
    "data_collection3[data_collection3[\"Chicken (e.g. #1)\"] == \"#1\"][\"Farm scale weight\"].plot()\n",
    "\n",
    "plt.title(\"Chicken weight during 2020-11-26 - 2021-01-20, 10 data in total\")\n",
    "data_collection3[data_collection3[\"Chicken (e.g. #1)\"] == \"#1\"][\"Farm scale weight\"].shape"
   ]
  },
  {
   "cell_type": "code",
   "execution_count": null,
   "metadata": {},
   "outputs": [],
   "source": []
  },
  {
   "cell_type": "code",
   "execution_count": null,
   "metadata": {},
   "outputs": [],
   "source": [
    "# dweights = pd.read_csv(\"weight recordings/weights id0 2020-08-04 09/58/17.586819.csv\")\n",
    "#                              skiprows=[0,1,2])\n",
    "dweights = pd.read_csv(\"weight recordings/w.csv\")\n",
    "\n"
   ]
  },
  {
   "cell_type": "code",
   "execution_count": null,
   "metadata": {},
   "outputs": [],
   "source": [
    "dweights[\"0.61\"].plot.kde()\n",
    "plt.title(\"weight distribution on 2020-08-04\")"
   ]
  },
  {
   "cell_type": "code",
   "execution_count": null,
   "metadata": {},
   "outputs": [],
   "source": [
    "summary09 = pd.read_csv(\"humidity & temperature/mench-siteb-house2 09.csv\")\n",
    "summary10 = pd.read_csv(\"humidity & temperature/mench-siteb-house2 10.csv\")"
   ]
  },
  {
   "cell_type": "code",
   "execution_count": null,
   "metadata": {},
   "outputs": [],
   "source": [
    "summary09.iloc[::30, :][\"Temperature (°C)\"].plot()\n",
    "plt.title(\"Sensor 9 temperature readings 2021-01-01 - 2021-01-20\")\n",
    "plt.show()\n",
    "summary09.iloc[::30, :][\"Relative Humidity (%)\"].plot()\n",
    "plt.title(\"Sensor 9 humidity readings 2021-01-01 - 2021-01-20\")"
   ]
  },
  {
   "cell_type": "code",
   "execution_count": null,
   "metadata": {},
   "outputs": [],
   "source": [
    "summary10.iloc[::30, :][\"Temperature (°C)\"].plot() # every 30 min\n",
    "plt.title(\"Sensor 10 temperature readings 2021-01-01 - 2021-01-20\")\n",
    "plt.show()\n",
    "summary10.iloc[::30, :][\"Relative Humidity (%)\"].plot()\n",
    "plt.title(\"Sensor 10 humidity readings 2021-01-01 - 2021-01-20\")"
   ]
  },
  {
   "cell_type": "code",
   "execution_count": null,
   "metadata": {},
   "outputs": [],
   "source": []
  }
 ],
 "metadata": {
  "kernelspec": {
   "display_name": "Python 3",
   "language": "python",
   "name": "python3"
  },
  "language_info": {
   "codemirror_mode": {
    "name": "ipython",
    "version": 3
   },
   "file_extension": ".py",
   "mimetype": "text/x-python",
   "name": "python",
   "nbconvert_exporter": "python",
   "pygments_lexer": "ipython3",
   "version": "3.7.8"
  }
 },
 "nbformat": 4,
 "nbformat_minor": 4
}
