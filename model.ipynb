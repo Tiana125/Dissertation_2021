{
 "cells": [
  {
   "cell_type": "markdown",
   "metadata": {},
   "source": [
    "# data pre-processing"
   ]
  },
  {
   "cell_type": "markdown",
   "metadata": {},
   "source": [
    "First, load required packages:"
   ]
  },
  {
   "cell_type": "code",
   "execution_count": 36,
   "metadata": {},
   "outputs": [],
   "source": [
    "import pandas as pd\n",
    "import matplotlib.pyplot as plt\n",
    "import numpy as np\n",
    "%matplotlib inline\n",
    "\n",
    "# for fix activity data\n",
    "from sklearn.linear_model import LinearRegression\n",
    "from sklearn.preprocessing import PolynomialFeatures\n",
    "from sklearn.metrics import mean_squared_error\n",
    "from sklearn.model_selection import train_test_split\n",
    "\n",
    "from sympy import Symbol,expand\n",
    "\n",
    "\n",
    "\n",
    "import re\n",
    "import glob\n",
    "\n",
    "import statistics\n",
    "\n",
    "import matplotlib.dates as mdates\n",
    "import matplotlib.ticker as mticker\n",
    "\n",
    "\n"
   ]
  },
  {
   "cell_type": "markdown",
   "metadata": {},
   "source": [
    "## Activity data\n",
    "### load data"
   ]
  },
  {
   "cell_type": "code",
   "execution_count": 16,
   "metadata": {},
   "outputs": [],
   "source": [
    "activity_data = np.load(\"./data/activity_list_full_flock_bbox_radius.npy\")"
   ]
  },
  {
   "cell_type": "code",
   "execution_count": 17,
   "metadata": {},
   "outputs": [
    {
     "data": {
      "text/plain": [
       "Text(0.5, 1.0, 'Activity index 21-09 to 20-11')"
      ]
     },
     "execution_count": 17,
     "metadata": {},
     "output_type": "execute_result"
    },
    {
     "data": {
      "image/png": "[encoded data removed]",
      "text/plain": [
       "<Figure size 432x288 with 1 Axes>"
      ]
     },
     "metadata": {
      "needs_background": "light"
     },
     "output_type": "display_data"
    }
   ],
   "source": [
    "daily_activity = np.mean(activity_data.reshape(-1, 1440), axis=1) # 1440 min per day\n",
    "plt.scatter(np.arange(0,len(daily_activity)),daily_activity)\n",
    "plt.title(\"Activity index 21-09 to 20-11\")"
   ]
  },
  {
   "cell_type": "markdown",
   "metadata": {},
   "source": [
    "### Fix corrupted data by polyfit"
   ]
  },
  {
   "cell_type": "code",
   "execution_count": 18,
   "metadata": {},
   "outputs": [],
   "source": [
    "# assign index (day number) to activity data\n",
    "idx_daily = np.arange(len(daily_activity))\n",
    "activity_df = pd.DataFrame(daily_activity,idx_daily)\n",
    "activity_df = activity_df.drop([13,14])\n",
    "activity_df.columns=['activity']"
   ]
  },
  {
   "cell_type": "code",
   "execution_count": 35,
   "metadata": {},
   "outputs": [
    {
     "name": "stdout",
     "output_type": "stream",
     "text": [
      "Best degree 5 with RMSE 1.8306173386435247\n"
     ]
    },
    {
     "data": {
      "image/png": "[encoded data removed]",
      "text/plain": [
       "<Figure size 432x288 with 1 Axes>"
      ]
     },
     "metadata": {
      "needs_background": "light"
     },
     "output_type": "display_data"
    }
   ],
   "source": [
    "# ref\n",
    "# https://stackoverflow.com/questions/47442102/how-to-find-the-best-degree-of-polynomials\n",
    "\n",
    "y = np.array(activity_df[\"activity\"])\n",
    "X = np.array(activity_df.reset_index().index).reshape(-1, 1)\n",
    "\n",
    "x_train, x_test, y_train, y_test = train_test_split(X, y, test_size=0.3, random_state=111)\n",
    "\n",
    "rmses = []\n",
    "degrees = np.arange(1, 10)\n",
    "min_rmse, min_deg = 1e10, 0\n",
    "\n",
    "for deg in degrees:\n",
    "\n",
    "    # Train features\n",
    "    poly_features = PolynomialFeatures(degree=deg, include_bias=False)\n",
    "    x_poly_train = poly_features.fit_transform(x_train)\n",
    "\n",
    "    # Linear regression\n",
    "    poly_reg = LinearRegression()\n",
    "    poly_reg.fit(x_poly_train, y_train)\n",
    "\n",
    "    # Compare with test data\n",
    "    x_poly_test = poly_features.fit_transform(x_test)\n",
    "    poly_predict = poly_reg.predict(x_poly_test)\n",
    "    poly_mse = mean_squared_error(y_test, poly_predict)\n",
    "    poly_rmse = np.sqrt(poly_mse)\n",
    "    rmses.append(poly_rmse)\n",
    "    \n",
    "    # Cross-validation of degree\n",
    "    if min_rmse > poly_rmse:\n",
    "        min_rmse = poly_rmse\n",
    "        min_deg = deg\n",
    "\n",
    "# Plot and present results\n",
    "print('Best degree {} with RMSE {}'.format(min_deg, min_rmse))\n",
    "        \n",
    "fig = plt.figure()\n",
    "ax = fig.add_subplot(111)\n",
    "ax.plot(degrees, rmses)\n",
    "ax.set_yscale('log')\n",
    "ax.set_xlabel('Degree')\n",
    "ax.set_ylabel('RMSE')\n",
    "plt.tight_layout()\n",
    "plt.savefig(\"poly_activity.png\",facecolor='white', edgecolor='none')"
   ]
  },
  {
   "cell_type": "code",
   "execution_count": 38,
   "metadata": {},
   "outputs": [
    {
     "name": "stdout",
     "output_type": "stream",
     "text": [
      "           5             4           3          2\n",
      "9.006e-06 x - 0.0008814 x + 0.03017 x - 0.4149 x + 1.248 x + 31.92\n",
      "9.00567952283168e-6*a**5 - 0.000881380835577706*a**4 + 0.0301726361501062*a**3 - 0.414945049688456*a**2 + 1.24776912387325*a + 31.9191407099722\n"
     ]
    }
   ],
   "source": [
    "fit_act = np.polyfit(np.array(activity_df.reset_index().index),activity_df[\"activity\"],5)\n",
    "y1=np.poly1d(fit_act)\n",
    "print(y1)\n",
    "x=Symbol('a')\n",
    "print(expand(y1(x)))"
   ]
  },
  {
   "cell_type": "code",
   "execution_count": 39,
   "metadata": {},
   "outputs": [
    {
     "name": "stdout",
     "output_type": "stream",
     "text": [
      "22.474335266894578\n"
     ]
    }
   ],
   "source": [
    "# activity for day 13\n",
    "a = 13\n",
    "activity_fill = 9.00567952283168e-6*a**5 - 0.000881380835577706*a**4 + 0.0301726361501062*a**3 - 0.414945049688456*a**2 + 1.24776912387325*a + 31.9191407099722\n",
    "\n",
    "print(activity_fill)"
   ]
  },
  {
   "cell_type": "code",
   "execution_count": 41,
   "metadata": {},
   "outputs": [
    {
     "name": "stdout",
     "output_type": "stream",
     "text": [
      "21.83673670528601\n"
     ]
    }
   ],
   "source": [
    "# activity for day 14\n",
    "a=14\n",
    "activity_fill = 9.00567952283168e-6*a**5 - 0.000881380835577706*a**4 + 0.0301726361501062*a**3 - 0.414945049688456*a**2 + 1.24776912387325*a + 31.9191407099722\n",
    "print(activity_fill)\n",
    "# 22.474335266894578\n",
    "# 21.83673670528601"
   ]
  },
  {
   "cell_type": "code",
   "execution_count": 42,
   "metadata": {},
   "outputs": [],
   "source": [
    "# put day 13, 14 data back\n",
    "daily_activity[13]=float(22.474335266894578)\n",
    "daily_activity[14]=float(21.83673670528601)"
   ]
  },
  {
   "cell_type": "markdown",
   "metadata": {},
   "source": [
    "## Temperature & Humidity"
   ]
  },
  {
   "cell_type": "code",
   "execution_count": 43,
   "metadata": {},
   "outputs": [],
   "source": [
    "input_21Sep=pd.read_csv(\"data/21Sep_summary.csv\",header=2,dayfirst=True) #ASK109 folder in original data"
   ]
  },
  {
   "cell_type": "markdown",
   "metadata": {},
   "source": [
    "Reduce original data to only necessary columns: "
   ]
  },
  {
   "cell_type": "code",
   "execution_count": 44,
   "metadata": {},
   "outputs": [
    {
     "data": {
      "text/html": [
       "<div>\n",
       "<style scoped>\n",
       "    .dataframe tbody tr th:only-of-type {\n",
       "        vertical-align: middle;\n",
       "    }\n",
       "\n",
       "    .dataframe tbody tr th {\n",
       "        vertical-align: top;\n",
       "    }\n",
       "\n",
       "    .dataframe thead th {\n",
       "        text-align: right;\n",
       "    }\n",
       "</style>\n",
       "<table border=\"1\" class=\"dataframe\">\n",
       "  <thead>\n",
       "    <tr style=\"text-align: right;\">\n",
       "      <th></th>\n",
       "      <th>Date</th>\n",
       "      <th>Mortality Rate</th>\n",
       "      <th>Mortality</th>\n",
       "      <th>Guideline Average Shed Temperature</th>\n",
       "      <th>Water Usage(L)</th>\n",
       "      <th>Feed Usage(grms/bird)</th>\n",
       "    </tr>\n",
       "  </thead>\n",
       "  <tbody>\n",
       "    <tr>\n",
       "      <th>0</th>\n",
       "      <td>2020-09-21</td>\n",
       "      <td>0.00%</td>\n",
       "      <td>0</td>\n",
       "      <td>33.0</td>\n",
       "      <td>0</td>\n",
       "      <td>NaN</td>\n",
       "    </tr>\n",
       "    <tr>\n",
       "      <th>1</th>\n",
       "      <td>2020-09-22</td>\n",
       "      <td>0.13%</td>\n",
       "      <td>16</td>\n",
       "      <td>32.4</td>\n",
       "      <td>14</td>\n",
       "      <td>NaN</td>\n",
       "    </tr>\n",
       "    <tr>\n",
       "      <th>2</th>\n",
       "      <td>2020-09-23</td>\n",
       "      <td>0.16%</td>\n",
       "      <td>36</td>\n",
       "      <td>31.8</td>\n",
       "      <td>19</td>\n",
       "      <td>NaN</td>\n",
       "    </tr>\n",
       "    <tr>\n",
       "      <th>3</th>\n",
       "      <td>2020-09-24</td>\n",
       "      <td>0.25%</td>\n",
       "      <td>68</td>\n",
       "      <td>31.2</td>\n",
       "      <td>29</td>\n",
       "      <td>2</td>\n",
       "    </tr>\n",
       "    <tr>\n",
       "      <th>4</th>\n",
       "      <td>2020-09-25</td>\n",
       "      <td>0.03%</td>\n",
       "      <td>72</td>\n",
       "      <td>30.8</td>\n",
       "      <td>39</td>\n",
       "      <td>NaN</td>\n",
       "    </tr>\n",
       "  </tbody>\n",
       "</table>\n",
       "</div>"
      ],
      "text/plain": [
       "        Date Mortality Rate  Mortality  Guideline Average Shed Temperature  \\\n",
       "0 2020-09-21          0.00%          0                                33.0   \n",
       "1 2020-09-22          0.13%         16                                32.4   \n",
       "2 2020-09-23          0.16%         36                                31.8   \n",
       "3 2020-09-24          0.25%         68                                31.2   \n",
       "4 2020-09-25          0.03%         72                                30.8   \n",
       "\n",
       "  Water Usage(L) Feed Usage(grms/bird)  \n",
       "0              0                   NaN  \n",
       "1             14                   NaN  \n",
       "2             19                   NaN  \n",
       "3             29                     2  \n",
       "4             39                   NaN  "
      ]
     },
     "execution_count": 44,
     "metadata": {},
     "output_type": "execute_result"
    }
   ],
   "source": [
    "input_21Sep = input_21Sep[[\"O/B's\",\"Unnamed: 6\",\"Unnamed: 7\",\"Unnamed: 8\",\"Unnamed: 11\",\"Unnamed: 18\"]]\n",
    "input_21Sep.columns = [\"Date\",\"Mortality Rate\", \"Mortality\", \"Guideline Average Shed Temperature\", \"Water Usage(L)\", \"Feed Usage(grms/bird)\"]\n",
    "input_21Sep.Date = pd.to_datetime(input_21Sep.Date, dayfirst=True)\n",
    "input_21Sep = input_21Sep.replace('#VALUE!', np.nan)\n",
    "input_21Sep.head()"
   ]
  },
  {
   "cell_type": "markdown",
   "metadata": {},
   "source": [
    "Water and feed usage are low in the first few days because farmers would ditribute them on the ground all over the shed."
   ]
  },
  {
   "cell_type": "code",
   "execution_count": 45,
   "metadata": {},
   "outputs": [],
   "source": [
    "input_21Sep[\"Mortality Rate\"] = input_21Sep[\"Mortality Rate\"].str.rstrip(\"%\").astype(\"float\")/ 100.0\n",
    "input_21Sep[\"Mortality\"] = input_21Sep[\"Mortality\"].astype(\"float\")\n",
    "input_21Sep[\"Guideline Average Shed Temperature\"] = input_21Sep[\"Guideline Average Shed Temperature\"].astype(\"float\")\n",
    "input_21Sep[\"Water Usage(L)\"] = input_21Sep[\"Water Usage(L)\"].astype(\"float\")\n",
    "input_21Sep[\"Feed Usage(grms/bird)\"] = input_21Sep[\"Feed Usage(grms/bird)\"].astype(\"float\")"
   ]
  },
  {
   "cell_type": "markdown",
   "metadata": {},
   "source": [
    "### load all files and construct big THI dataframe"
   ]
  },
  {
   "cell_type": "code",
   "execution_count": 46,
   "metadata": {},
   "outputs": [
    {
     "data": {
      "text/html": [
       "<div>\n",
       "<style scoped>\n",
       "    .dataframe tbody tr th:only-of-type {\n",
       "        vertical-align: middle;\n",
       "    }\n",
       "\n",
       "    .dataframe tbody tr th {\n",
       "        vertical-align: top;\n",
       "    }\n",
       "\n",
       "    .dataframe thead th {\n",
       "        text-align: right;\n",
       "    }\n",
       "</style>\n",
       "<table border=\"1\" class=\"dataframe\">\n",
       "  <thead>\n",
       "    <tr style=\"text-align: right;\">\n",
       "      <th></th>\n",
       "      <th>Timestamp03</th>\n",
       "      <th>Temperature (°C)</th>\n",
       "      <th>Relative Humidity (%)</th>\n",
       "      <th>Timestamp05</th>\n",
       "      <th>Temperature (°C)</th>\n",
       "      <th>Relative Humidity (%)</th>\n",
       "      <th>Timestamp06</th>\n",
       "      <th>Temperature (°C)</th>\n",
       "      <th>Relative Humidity (%)</th>\n",
       "      <th>Timestamp07</th>\n",
       "      <th>...</th>\n",
       "      <th>Relative Humidity (%)</th>\n",
       "      <th>Timestamp15</th>\n",
       "      <th>Temperature (°C)</th>\n",
       "      <th>Relative Humidity (%)</th>\n",
       "      <th>Timestamp16</th>\n",
       "      <th>Temperature (°C)</th>\n",
       "      <th>Relative Humidity (%)</th>\n",
       "      <th>Timestamp18</th>\n",
       "      <th>Temperature (°C)</th>\n",
       "      <th>Relative Humidity (%)</th>\n",
       "    </tr>\n",
       "  </thead>\n",
       "  <tbody>\n",
       "    <tr>\n",
       "      <th>0</th>\n",
       "      <td>2020-10-03 14:44:00</td>\n",
       "      <td>24.5667</td>\n",
       "      <td>73.68</td>\n",
       "      <td>2020-10-03 14:44:00</td>\n",
       "      <td>17.8889</td>\n",
       "      <td>73.74</td>\n",
       "      <td>2020-10-03 14:44:00</td>\n",
       "      <td>26.8611</td>\n",
       "      <td>78.59</td>\n",
       "      <td>2020-10-03 14:44:00</td>\n",
       "      <td>...</td>\n",
       "      <td>69.26</td>\n",
       "      <td>2020-10-03 14:44:00</td>\n",
       "      <td>24.8167</td>\n",
       "      <td>67.61</td>\n",
       "      <td>2020-10-03 14:44:00</td>\n",
       "      <td>24.6111</td>\n",
       "      <td>67.43</td>\n",
       "      <td>2020-10-03 14:44:00</td>\n",
       "      <td>23.9333</td>\n",
       "      <td>69.90</td>\n",
       "    </tr>\n",
       "    <tr>\n",
       "      <th>1</th>\n",
       "      <td>2020-10-03 14:45:00</td>\n",
       "      <td>24.6444</td>\n",
       "      <td>73.22</td>\n",
       "      <td>2020-10-03 14:45:00</td>\n",
       "      <td>17.9000</td>\n",
       "      <td>73.71</td>\n",
       "      <td>2020-10-03 14:45:00</td>\n",
       "      <td>26.9389</td>\n",
       "      <td>74.51</td>\n",
       "      <td>2020-10-03 14:45:00</td>\n",
       "      <td>...</td>\n",
       "      <td>69.47</td>\n",
       "      <td>2020-10-03 14:45:00</td>\n",
       "      <td>24.7944</td>\n",
       "      <td>66.81</td>\n",
       "      <td>2020-10-03 14:45:00</td>\n",
       "      <td>24.6222</td>\n",
       "      <td>67.49</td>\n",
       "      <td>2020-10-03 14:45:00</td>\n",
       "      <td>23.9778</td>\n",
       "      <td>69.96</td>\n",
       "    </tr>\n",
       "    <tr>\n",
       "      <th>2</th>\n",
       "      <td>2020-10-03 14:46:00</td>\n",
       "      <td>24.6944</td>\n",
       "      <td>72.43</td>\n",
       "      <td>2020-10-03 14:46:00</td>\n",
       "      <td>17.9056</td>\n",
       "      <td>73.68</td>\n",
       "      <td>2020-10-03 14:46:00</td>\n",
       "      <td>27.7833</td>\n",
       "      <td>73.86</td>\n",
       "      <td>2020-10-03 14:46:00</td>\n",
       "      <td>...</td>\n",
       "      <td>69.20</td>\n",
       "      <td>2020-10-03 14:46:00</td>\n",
       "      <td>24.7833</td>\n",
       "      <td>67.12</td>\n",
       "      <td>2020-10-03 14:46:00</td>\n",
       "      <td>24.6333</td>\n",
       "      <td>67.30</td>\n",
       "      <td>2020-10-03 14:46:00</td>\n",
       "      <td>24.0222</td>\n",
       "      <td>69.78</td>\n",
       "    </tr>\n",
       "    <tr>\n",
       "      <th>3</th>\n",
       "      <td>2020-10-03 14:47:00</td>\n",
       "      <td>24.7167</td>\n",
       "      <td>72.16</td>\n",
       "      <td>2020-10-03 14:47:00</td>\n",
       "      <td>17.9056</td>\n",
       "      <td>73.68</td>\n",
       "      <td>2020-10-03 14:47:00</td>\n",
       "      <td>28.3889</td>\n",
       "      <td>66.78</td>\n",
       "      <td>2020-10-03 14:47:00</td>\n",
       "      <td>...</td>\n",
       "      <td>69.29</td>\n",
       "      <td>2020-10-03 14:47:00</td>\n",
       "      <td>24.7722</td>\n",
       "      <td>67.27</td>\n",
       "      <td>2020-10-03 14:47:00</td>\n",
       "      <td>24.6444</td>\n",
       "      <td>67.55</td>\n",
       "      <td>2020-10-03 14:47:00</td>\n",
       "      <td>24.0556</td>\n",
       "      <td>70.42</td>\n",
       "    </tr>\n",
       "    <tr>\n",
       "      <th>4</th>\n",
       "      <td>2020-10-03 14:48:00</td>\n",
       "      <td>24.7722</td>\n",
       "      <td>73.07</td>\n",
       "      <td>2020-10-03 14:48:00</td>\n",
       "      <td>17.9167</td>\n",
       "      <td>73.62</td>\n",
       "      <td>2020-10-03 14:48:00</td>\n",
       "      <td>28.3889</td>\n",
       "      <td>65.23</td>\n",
       "      <td>2020-10-03 14:48:00</td>\n",
       "      <td>...</td>\n",
       "      <td>69.62</td>\n",
       "      <td>2020-10-03 14:48:00</td>\n",
       "      <td>24.7500</td>\n",
       "      <td>67.33</td>\n",
       "      <td>2020-10-03 14:48:00</td>\n",
       "      <td>24.6667</td>\n",
       "      <td>67.70</td>\n",
       "      <td>2020-10-03 14:48:00</td>\n",
       "      <td>24.1389</td>\n",
       "      <td>69.96</td>\n",
       "    </tr>\n",
       "  </tbody>\n",
       "</table>\n",
       "<p>5 rows × 36 columns</p>\n",
       "</div>"
      ],
      "text/plain": [
       "          Timestamp03 Temperature (°C)  Relative Humidity (%)  \\\n",
       "0 2020-10-03 14:44:00          24.5667                  73.68   \n",
       "1 2020-10-03 14:45:00          24.6444                  73.22   \n",
       "2 2020-10-03 14:46:00          24.6944                  72.43   \n",
       "3 2020-10-03 14:47:00          24.7167                  72.16   \n",
       "4 2020-10-03 14:48:00          24.7722                  73.07   \n",
       "\n",
       "          Timestamp05 Temperature (°C)  Relative Humidity (%)  \\\n",
       "0 2020-10-03 14:44:00          17.8889                  73.74   \n",
       "1 2020-10-03 14:45:00          17.9000                  73.71   \n",
       "2 2020-10-03 14:46:00          17.9056                  73.68   \n",
       "3 2020-10-03 14:47:00          17.9056                  73.68   \n",
       "4 2020-10-03 14:48:00          17.9167                  73.62   \n",
       "\n",
       "          Timestamp06 Temperature (°C)  Relative Humidity (%)  \\\n",
       "0 2020-10-03 14:44:00          26.8611                  78.59   \n",
       "1 2020-10-03 14:45:00          26.9389                  74.51   \n",
       "2 2020-10-03 14:46:00          27.7833                  73.86   \n",
       "3 2020-10-03 14:47:00          28.3889                  66.78   \n",
       "4 2020-10-03 14:48:00          28.3889                  65.23   \n",
       "\n",
       "          Timestamp07  ...  Relative Humidity (%)         Timestamp15  \\\n",
       "0 2020-10-03 14:44:00  ...                  69.26 2020-10-03 14:44:00   \n",
       "1 2020-10-03 14:45:00  ...                  69.47 2020-10-03 14:45:00   \n",
       "2 2020-10-03 14:46:00  ...                  69.20 2020-10-03 14:46:00   \n",
       "3 2020-10-03 14:47:00  ...                  69.29 2020-10-03 14:47:00   \n",
       "4 2020-10-03 14:48:00  ...                  69.62 2020-10-03 14:48:00   \n",
       "\n",
       "  Temperature (°C)  Relative Humidity (%)         Timestamp16  \\\n",
       "0          24.8167                  67.61 2020-10-03 14:44:00   \n",
       "1          24.7944                  66.81 2020-10-03 14:45:00   \n",
       "2          24.7833                  67.12 2020-10-03 14:46:00   \n",
       "3          24.7722                  67.27 2020-10-03 14:47:00   \n",
       "4          24.7500                  67.33 2020-10-03 14:48:00   \n",
       "\n",
       "  Temperature (°C)  Relative Humidity (%)         Timestamp18  \\\n",
       "0          24.6111                  67.43 2020-10-03 14:44:00   \n",
       "1          24.6222                  67.49 2020-10-03 14:45:00   \n",
       "2          24.6333                  67.30 2020-10-03 14:46:00   \n",
       "3          24.6444                  67.55 2020-10-03 14:47:00   \n",
       "4          24.6667                  67.70 2020-10-03 14:48:00   \n",
       "\n",
       "  Temperature (°C)  Relative Humidity (%)  \n",
       "0          23.9333                  69.90  \n",
       "1          23.9778                  69.96  \n",
       "2          24.0222                  69.78  \n",
       "3          24.0556                  70.42  \n",
       "4          24.1389                  69.96  \n",
       "\n",
       "[5 rows x 36 columns]"
      ]
     },
     "execution_count": 46,
     "metadata": {},
     "output_type": "execute_result"
    }
   ],
   "source": [
    "# might take a few second\n",
    "df0 = pd.read_csv(\"data/HumidTemp/mench-siteb-house2 03.csv\")\n",
    "\n",
    "df0['Timestamp']= pd.to_datetime(df0['Timestamp'])\n",
    "# add the sensor beacon ID to the \"Timestamp\" column name\n",
    "df0=df0.rename(columns = {'Timestamp':'Timestamp'+re.findall(r'\\d\\d',\"data/HumidTemp/mench-siteb-house2 03.csv\")[0]})\n",
    "\n",
    "# start from 1 because already read 1 file\n",
    "for i in glob.glob('data/HumidTemp/*.csv')[1:]:\n",
    "    df1 = pd.read_csv(i)\n",
    "    \n",
    "    df1['Timestamp']= pd.to_datetime(df1['Timestamp'])\n",
    "    \n",
    "#     get previous file name because want to compare the earliest timestamp\n",
    "    prev_filename = glob.glob('data/HumidTemp/*.csv')[glob.glob('data/HumidTemp/*.csv').index(i)-1]\n",
    "    \n",
    "#     find the sensor ID (the final two digits in file names), get earliest timestamp in that sensor/file\n",
    "#     compare earliest time\n",
    "#     if the previous file(s) has earlier time \n",
    "# (keep in mind for loop make the dataframe big and now it may have many timestamps and data from many files that are already read)\n",
    "    if df0['Timestamp'+re.findall(r'\\d\\d',prev_filename)[0]].min() <= df1['Timestamp'].min():\n",
    "        dftimestamp_later = df1['Timestamp'].min()\n",
    "        df0 = df0[df0['Timestamp'+re.findall(r'\\d\\d',prev_filename)[0]]>=dftimestamp_later].reset_index(drop=True)\n",
    "\n",
    "    else:\n",
    "#         drop everything before the common timestamp in the file that has earlier time\n",
    "        dftimestamp_later = df0['Timestamp'+re.findall(r'\\d\\d',prev_filename)[0]].min()\n",
    "        df1 = df1[df1[\"Timestamp\"]>=dftimestamp_later].reset_index(drop=True)\n",
    "\n",
    "#         now both df has the same timestamp\n",
    "    df_fin = pd.concat((df0,df1),axis=1)\n",
    "#     change the column name of the latest added column to add the latest file name\n",
    "    df_fin=df_fin.rename(columns = {'Timestamp':'Timestamp'+re.findall(r'\\d\\d',i)[0]})\n",
    "# make the final df the new df to be checked in the next iteration\n",
    "    df0=df_fin\n",
    "    \n",
    "\n",
    "df_fin.head()\n"
   ]
  },
  {
   "cell_type": "code",
   "execution_count": 47,
   "metadata": {},
   "outputs": [],
   "source": [
    "# for recovery of the dataframe if made mistakes\n",
    "df_fin_copy = df_fin\n",
    "# df_fin = df_fin_copy"
   ]
  },
  {
   "cell_type": "code",
   "execution_count": 48,
   "metadata": {},
   "outputs": [],
   "source": [
    "# drop all timestamp column but one, since all timestamps are consistent across sensors\n",
    "df_fin_time = df_fin.iloc[:, 0] \n",
    "\n",
    "df_fin = df_fin.drop((df_fin.filter(regex='Timestamp')).columns, axis = 1)\n",
    "\n",
    "df_fin.insert(0, column='Timestamp', value=df_fin_time)"
   ]
  },
  {
   "cell_type": "markdown",
   "metadata": {},
   "source": [
    "Sensor 06 (third column) has the last day data missing"
   ]
  },
  {
   "cell_type": "code",
   "execution_count": 49,
   "metadata": {},
   "outputs": [],
   "source": [
    "#calc average , min, max, med temp\n",
    "# reduced to only 8 entries temp&hum per day\n",
    "df_daily = df_fin.resample('D', on='Timestamp').mean().reset_index()\n",
    "\n",
    "\n",
    "column_names = ['Average Temperature','Median Temperature','Min Temperature','Max Temperature',\n",
    "               'Average Humidity','Median Humidity','Min Humidity','Max Humidity']\n",
    "regex_for_original = ['Temperature','Temperature','Temperature','Temperature',\n",
    "                      'Humidity','Humidity','Humidity','Humidity']\n",
    "operations = [statistics.mean, statistics.median,min,max,statistics.mean, statistics.median,min,max]\n",
    "for i,j,k in zip(column_names,regex_for_original,operations):\n",
    "    df_daily.insert(1, column=i, \n",
    "                      value=pd.DataFrame(df_daily.filter(regex=j).values).apply(k, axis =1))\n",
    "\n",
    "df_daily = df_daily.loc[:, :'Average Temperature']"
   ]
  },
  {
   "cell_type": "code",
   "execution_count": 17,
   "metadata": {},
   "outputs": [],
   "source": [
    "# idea is to visualise how the temp and humid are changing throughout the day, taking into account spatial view\n",
    "# not implemented\n",
    "\n",
    "# df_spatial = df_fin.resample('D', on='Timestamp').mean().reset_index()\n",
    "\n",
    "# column_names = ['Average Temperature','Median Temperature','Min Temperature','Max Temperature',\n",
    "#                'Average Humidity','Median Humidity','Min Humidity','Max Humidity']\n",
    "# regex_for_original = ['Temperature','Temperature','Temperature','Temperature',\n",
    "#                       'Humidity','Humidity','Humidity','Humidity']\n",
    "# operations = [statistics.mean, statistics.median,min,max,statistics.mean, statistics.median,min,max]\n",
    "# for i,j,k in zip(column_names,regex_for_original,operations):\n",
    "#     df_spatial.insert(1, column=i, value=pd.DataFrame(df_spatial.filter(regex=j).values).apply(k, axis =0))\n",
    "\n",
    "# df_spatial = df_spatial.loc[:, :'Average Temperature']"
   ]
  },
  {
   "cell_type": "code",
   "execution_count": 18,
   "metadata": {},
   "outputs": [],
   "source": [
    "# df_fin.resample('D', on='Timestamp').mean().reset_index().iloc[1].drop(\"Timestamp\").plot()"
   ]
  },
  {
   "cell_type": "markdown",
   "metadata": {},
   "source": [
    "Now we have daily temp and humid range\n",
    "Now aggregate the guideline temp with actual ones: \n",
    "\n",
    "### Guideline Temp vs actual\n",
    "\n",
    "FLOCK 1: 21/09/20 - 20/11/20"
   ]
  },
  {
   "cell_type": "code",
   "execution_count": 50,
   "metadata": {},
   "outputs": [],
   "source": [
    "f1 = df_daily.loc[(df_daily[\"Timestamp\"]>=\"2020-09-21\") & (df_daily[\"Timestamp\"]<=\"2020-11-20\")][['Timestamp','Average Temperature']]\n",
    "f1_temp = pd.merge(input_21Sep[[\"Date\",\"Guideline Average Shed Temperature\"]], f1, left_on=\"Date\", right_on=\"Timestamp\", how = \"left\").drop(\"Timestamp\",axis=1)"
   ]
  },
  {
   "cell_type": "code",
   "execution_count": 51,
   "metadata": {},
   "outputs": [
    {
     "data": {
      "image/png": "[encoded data removed]",
      "text/plain": [
       "<Figure size 432x288 with 1 Axes>"
      ]
     },
     "metadata": {
      "needs_background": "light"
     },
     "output_type": "display_data"
    }
   ],
   "source": [
    "ax = plt.gca()\n",
    "ax.xaxis.set_major_formatter(mdates.DateFormatter('%Y-%m'))\n",
    "# ax.tick_params(pad=10)\n",
    "\n",
    "ax.xaxis.set_major_locator((mdates.MonthLocator()))\n",
    "ax.xaxis.set_minor_locator((mdates.MonthLocator(bymonthday=15))) # x tick every half month\n",
    "\n",
    "plt.plot(f1_temp.Date, f1_temp['Guideline Average Shed Temperature'], linewidth=1, label=\"Guideline\")\n",
    "plt.scatter(f1_temp.Date, f1_temp['Average Temperature'], s = 5, label = \"Actual\")\n",
    "plt.title(\"Actual Temperature vs Guideline\")\n",
    "plt.xlabel(\"Time\")\n",
    "plt.ylabel(\"Temperature (°C)\")\n",
    "plt.legend()\n",
    "plt.show() \n",
    "# plt.savefig(\"Actual_Guide_temp.png\",facecolor=\"white\", edgecolor='none')"
   ]
  },
  {
   "cell_type": "markdown",
   "metadata": {},
   "source": [
    "Actual temperature varies from guideline, where (15-10-2020, 24 days ) the actual temp is higher than guideline. \n",
    "\n",
    "earlier half is lower than guideline, later half hotter. "
   ]
  },
  {
   "cell_type": "markdown",
   "metadata": {},
   "source": [
    "### Calculating THI\n",
    "\n",
    "Formula for wet bulb temp:\n",
    "\n",
    "Tw = T * arctan[0.151977 * (rh% + 8.313659)^(1/2)] + arctan(T + rh%) - arctan(rh% - 1.676331) + 0.00391838 *(rh%)^(3/2) * arctan(0.023101 * rh%) - 4.686035\n",
    "\n",
    "[link to ref for T wet bulb from T dry & RH](https://doi.org/10.1175/JAMC-D-11-0143.1)\n",
    "\n",
    "\n",
    "Formula for THI:\n",
    "THI_broilers = 0.85 Tdb + 0.15 Twb   (DOI:10.13031/2013.12971)\n"
   ]
  },
  {
   "cell_type": "code",
   "execution_count": 52,
   "metadata": {},
   "outputs": [
    {
     "data": {
      "text/html": [
       "<div>\n",
       "<style scoped>\n",
       "    .dataframe tbody tr th:only-of-type {\n",
       "        vertical-align: middle;\n",
       "    }\n",
       "\n",
       "    .dataframe tbody tr th {\n",
       "        vertical-align: top;\n",
       "    }\n",
       "\n",
       "    .dataframe thead th {\n",
       "        text-align: right;\n",
       "    }\n",
       "</style>\n",
       "<table border=\"1\" class=\"dataframe\">\n",
       "  <thead>\n",
       "    <tr style=\"text-align: right;\">\n",
       "      <th></th>\n",
       "      <th>Date</th>\n",
       "      <th>Average Temperature</th>\n",
       "      <th>Average Humidity</th>\n",
       "      <th>Wet Bulb Temperature</th>\n",
       "      <th>THI</th>\n",
       "    </tr>\n",
       "  </thead>\n",
       "  <tbody>\n",
       "    <tr>\n",
       "      <th>0</th>\n",
       "      <td>2020-09-21</td>\n",
       "      <td>NaN</td>\n",
       "      <td>NaN</td>\n",
       "      <td>NaN</td>\n",
       "      <td>NaN</td>\n",
       "    </tr>\n",
       "    <tr>\n",
       "      <th>1</th>\n",
       "      <td>2020-09-22</td>\n",
       "      <td>NaN</td>\n",
       "      <td>NaN</td>\n",
       "      <td>NaN</td>\n",
       "      <td>NaN</td>\n",
       "    </tr>\n",
       "    <tr>\n",
       "      <th>2</th>\n",
       "      <td>2020-09-23</td>\n",
       "      <td>NaN</td>\n",
       "      <td>NaN</td>\n",
       "      <td>NaN</td>\n",
       "      <td>NaN</td>\n",
       "    </tr>\n",
       "    <tr>\n",
       "      <th>3</th>\n",
       "      <td>2020-09-24</td>\n",
       "      <td>NaN</td>\n",
       "      <td>NaN</td>\n",
       "      <td>NaN</td>\n",
       "      <td>NaN</td>\n",
       "    </tr>\n",
       "    <tr>\n",
       "      <th>4</th>\n",
       "      <td>2020-09-25</td>\n",
       "      <td>NaN</td>\n",
       "      <td>NaN</td>\n",
       "      <td>NaN</td>\n",
       "      <td>NaN</td>\n",
       "    </tr>\n",
       "    <tr>\n",
       "      <th>...</th>\n",
       "      <td>...</td>\n",
       "      <td>...</td>\n",
       "      <td>...</td>\n",
       "      <td>...</td>\n",
       "      <td>...</td>\n",
       "    </tr>\n",
       "    <tr>\n",
       "      <th>56</th>\n",
       "      <td>2020-11-16</td>\n",
       "      <td>19.042127</td>\n",
       "      <td>75.670190</td>\n",
       "      <td>16.081844</td>\n",
       "      <td>18.598085</td>\n",
       "    </tr>\n",
       "    <tr>\n",
       "      <th>57</th>\n",
       "      <td>2020-11-17</td>\n",
       "      <td>19.082573</td>\n",
       "      <td>75.164148</td>\n",
       "      <td>16.058351</td>\n",
       "      <td>18.628940</td>\n",
       "    </tr>\n",
       "    <tr>\n",
       "      <th>58</th>\n",
       "      <td>2020-11-18</td>\n",
       "      <td>18.974280</td>\n",
       "      <td>75.113027</td>\n",
       "      <td>15.949588</td>\n",
       "      <td>18.520576</td>\n",
       "    </tr>\n",
       "    <tr>\n",
       "      <th>59</th>\n",
       "      <td>2020-11-19</td>\n",
       "      <td>18.632701</td>\n",
       "      <td>73.860256</td>\n",
       "      <td>15.474628</td>\n",
       "      <td>18.158990</td>\n",
       "    </tr>\n",
       "    <tr>\n",
       "      <th>60</th>\n",
       "      <td>2020-11-20</td>\n",
       "      <td>18.621299</td>\n",
       "      <td>74.467480</td>\n",
       "      <td>15.537360</td>\n",
       "      <td>18.158708</td>\n",
       "    </tr>\n",
       "  </tbody>\n",
       "</table>\n",
       "<p>61 rows × 5 columns</p>\n",
       "</div>"
      ],
      "text/plain": [
       "         Date  Average Temperature  Average Humidity  Wet Bulb Temperature  \\\n",
       "0  2020-09-21                  NaN               NaN                   NaN   \n",
       "1  2020-09-22                  NaN               NaN                   NaN   \n",
       "2  2020-09-23                  NaN               NaN                   NaN   \n",
       "3  2020-09-24                  NaN               NaN                   NaN   \n",
       "4  2020-09-25                  NaN               NaN                   NaN   \n",
       "..        ...                  ...               ...                   ...   \n",
       "56 2020-11-16            19.042127         75.670190             16.081844   \n",
       "57 2020-11-17            19.082573         75.164148             16.058351   \n",
       "58 2020-11-18            18.974280         75.113027             15.949588   \n",
       "59 2020-11-19            18.632701         73.860256             15.474628   \n",
       "60 2020-11-20            18.621299         74.467480             15.537360   \n",
       "\n",
       "          THI  \n",
       "0         NaN  \n",
       "1         NaN  \n",
       "2         NaN  \n",
       "3         NaN  \n",
       "4         NaN  \n",
       "..        ...  \n",
       "56  18.598085  \n",
       "57  18.628940  \n",
       "58  18.520576  \n",
       "59  18.158990  \n",
       "60  18.158708  \n",
       "\n",
       "[61 rows x 5 columns]"
      ]
     },
     "execution_count": 52,
     "metadata": {},
     "output_type": "execute_result"
    }
   ],
   "source": [
    "f1_thi = pd.merge(df_daily[[\"Timestamp\",\"Average Humidity\"]], \n",
    "                  f1_temp.drop(\"Guideline Average Shed Temperature\",axis=1), \n",
    "                  left_on=\"Timestamp\", right_on=\"Date\", how = \"right\").drop(\"Timestamp\",axis=1)\n",
    "\n",
    "f1_thi = f1_thi.reindex([\"Date\",\"Average Temperature\",\"Average Humidity\"], axis=1)\n",
    "f1_thi[\"Wet Bulb Temperature\"] = f1_thi[\"Average Temperature\"]* np.arctan(0.151977 * (f1_thi[\"Average Humidity\"] + 8.313659)**(1/2)) + np.arctan(f1_thi[\"Average Temperature\"] + f1_thi[\"Average Humidity\"]) - np.arctan(f1_thi[\"Average Humidity\"] - 1.676331) + 0.00391838 *(f1_thi[\"Average Humidity\"])**(3/2) * np.arctan(0.023101 * f1_thi[\"Average Humidity\"]) - 4.686035\n",
    "\n",
    "f1_thi[\"THI\"] = f1_thi[\"Average Temperature\"]*0.85 + f1_thi[\"Wet Bulb Temperature\"]*0.15\n",
    "f1_thi"
   ]
  },
  {
   "cell_type": "markdown",
   "metadata": {},
   "source": [
    "Lit:\n",
    "\n",
    "Input:THI\n",
    "\n",
    "responses: specific feed intake (FI), average body mass (BM) and mortality. \n",
    "\n",
    "derived production: BM gain and feed conversion (FC).\n",
    "\n",
    "This study:\n",
    "\n",
    "Input: THI/THI&activity (only they are in control of the experiment, after the insight that this experiement can generate, the only thing that is in control of human/breeders is thi and activity.\n",
    "\n",
    "Output: weight\n"
   ]
  },
  {
   "cell_type": "markdown",
   "metadata": {},
   "source": [
    "## weight\n",
    "\n",
    "### load weight data from one excel sheet"
   ]
  },
  {
   "cell_type": "code",
   "execution_count": 53,
   "metadata": {},
   "outputs": [],
   "source": [
    "weight_21Sep = pd.read_csv(\"data/Data collection_ Menchine site B shed 2, 2020-09-21 - 2020-11-09 - Exp 1.csv\",\n",
    "                             skiprows=[0,1,2])\n",
    "\n",
    "weight_21Sep.Date = pd.to_datetime(weight_21Sep.Date, dayfirst=True)\n",
    "# weight_21Sep[\"Farm scale weight\"].round(3) == weight_21Sep[\"FLOX scale weight\"]\n",
    "\n",
    "# average daily weight\n",
    "weight_21Sep = weight_21Sep.drop([\"Time\", \"FLOX scale weight\", \"FLOX scale #\"], axis=1)"
   ]
  },
  {
   "cell_type": "code",
   "execution_count": 54,
   "metadata": {},
   "outputs": [
    {
     "data": {
      "text/plain": [
       "Text(0.5, 1.0, 'Chicken weight during 2020-09-21 - 2020-11-09, 42 days in total')"
      ]
     },
     "execution_count": 54,
     "metadata": {},
     "output_type": "execute_result"
    },
    {
     "data": {
      "image/png": "[encoded data removed]",
      "text/plain": [
       "<Figure size 432x288 with 1 Axes>"
      ]
     },
     "metadata": {
      "needs_background": "light"
     },
     "output_type": "display_data"
    }
   ],
   "source": [
    "weight_21Sep = weight_21Sep.groupby(\"Date\").mean().reset_index()\n",
    "weight_21Sep = weight_21Sep.rename(columns={\"Farm scale weight\": \"weight\"})\n",
    "\n",
    "weight_21Sep[\"weight\"].plot()\n",
    "plt.title(\"Chicken weight during 2020-09-21 - 2020-11-09, 42 days in total\")\n"
   ]
  },
  {
   "cell_type": "code",
   "execution_count": 55,
   "metadata": {},
   "outputs": [
    {
     "data": {
      "image/png": "[encoded data removed]",
      "text/plain": [
       "<Figure size 432x288 with 6 Axes>"
      ]
     },
     "metadata": {
      "needs_background": "light"
     },
     "output_type": "display_data"
    }
   ],
   "source": [
    "# for reference, growth trend\n",
    "fig, axs = plt.subplots(2, 3)\n",
    "f1_thi[\"THI\"].plot(ax=axs[0,0])\n",
    "axs[0, 0].set_title('THI')\n",
    "\n",
    "input_21Sep[\"Mortality Rate\"].plot(ax=axs[1,0])\n",
    "axs[1,0].set_title('Mortality')\n",
    "\n",
    "input_21Sep[\"Water Usage(L)\"].plot(ax=axs[1,1])\n",
    "axs[1, 1].set_title('Water Usage(L)')\n",
    "\n",
    "input_21Sep[\"Feed Usage(grms/bird)\"].plot(ax=axs[1,2])\n",
    "axs[1,2].set_title('Feed Usage')\n",
    "\n",
    "weight_21Sep[\"weight\"].plot(ax=axs[0,1])\n",
    "axs[0, 1].set_title('weight')\n",
    "\n",
    "\n",
    "plt.tight_layout()"
   ]
  },
  {
   "cell_type": "markdown",
   "metadata": {},
   "source": [
    "This data in summer, need another model/more generalised equation to summarise the overall behavior (regardless of season/taking different season into account(considersation) )"
   ]
  },
  {
   "cell_type": "code",
   "execution_count": 56,
   "metadata": {},
   "outputs": [
    {
     "data": {
      "image/png": "[encoded data removed]",
      "text/plain": [
       "<Figure size 432x288 with 6 Axes>"
      ]
     },
     "metadata": {
      "needs_background": "light"
     },
     "output_type": "display_data"
    }
   ],
   "source": [
    "# kde, for reference\n",
    "fig, axs = plt.subplots(2, 3)\n",
    "f1_thi[\"THI\"].plot.kde(ax=axs[0,0])\n",
    "axs[0, 0].set_title('THI')\n",
    "\n",
    "input_21Sep[\"Mortality Rate\"].plot.kde(ax=axs[1,0])\n",
    "axs[1,0].set_title('Mortality')\n",
    "\n",
    "input_21Sep[\"Water Usage(L)\"].plot.kde(ax=axs[1,1])\n",
    "axs[1, 1].set_title('Water Usage(L)')\n",
    "\n",
    "input_21Sep[\"Feed Usage(grms/bird)\"].plot.kde(ax=axs[1,2])\n",
    "axs[1,2].set_title('Feed Usage')\n",
    "\n",
    "weight_21Sep[\"weight\"].plot.kde(ax=axs[0,1])\n",
    "axs[0, 1].set_title('weight')\n",
    "\n",
    "\n",
    "plt.tight_layout()\n",
    "\n",
    "# # Hide x labels and tick labels for top plots and y ticks for right plots.\n",
    "# for ax in axs.flat:\n",
    "#     ax.label_outer()"
   ]
  },
  {
   "cell_type": "code",
   "execution_count": 57,
   "metadata": {},
   "outputs": [],
   "source": [
    "# weight_21Sep=weight_21Sep.set_index(\"Date\")\n",
    "# weight_21Sep.index = weight_21Sep.index.swaplevel(0,1)\n",
    "\n",
    "exog_21Sep = weight_21Sep.join([f1_thi[\"THI\"], \n",
    "                       input_21Sep[\"Feed Usage(grms/bird)\"],\n",
    "                       input_21Sep[\"Water Usage(L)\"]])\n",
    "\n",
    "# import statsmodels as sm\n",
    "# exog = sm.tools.tools.add_constant(exog_21Sep[[\"THI\",\"Feed Usage(grms/bird)\", \"Water Usage(L)\"]]) \n",
    "# #input_21Sep[\"Water Usage(L)\"], input_21Sep[\"Feed Usage(grms/bird)\"]\n",
    "# mod = RandomEffects(weight_21Sep[\"weight\"], exog)\n",
    "# re_res = mod.fit()\n",
    "# print(re_res)"
   ]
  },
  {
   "cell_type": "code",
   "execution_count": 58,
   "metadata": {},
   "outputs": [],
   "source": [
    "exog_21Sep[\"THI\"]= exog_21Sep[\"THI\"].astype(\"float\").round(1)\n"
   ]
  },
  {
   "cell_type": "code",
   "execution_count": 59,
   "metadata": {},
   "outputs": [],
   "source": [
    "\n",
    "a = exog_21Sep.Date-exog_21Sep.Date[0]\n",
    "exog_21Sep[\"numdays\"] = pd.Series(a.dt.days.astype(int), index=exog_21Sep.index)\n",
    "exog_21Sep= exog_21Sep.dropna()\n"
   ]
  },
  {
   "cell_type": "code",
   "execution_count": 60,
   "metadata": {},
   "outputs": [],
   "source": [
    "exog_21Sep[\"activity\"] = daily_activity[12:]\n"
   ]
  },
  {
   "cell_type": "code",
   "execution_count": 61,
   "metadata": {},
   "outputs": [
    {
     "data": {
      "text/html": [
       "<div>\n",
       "<style scoped>\n",
       "    .dataframe tbody tr th:only-of-type {\n",
       "        vertical-align: middle;\n",
       "    }\n",
       "\n",
       "    .dataframe tbody tr th {\n",
       "        vertical-align: top;\n",
       "    }\n",
       "\n",
       "    .dataframe thead th {\n",
       "        text-align: right;\n",
       "    }\n",
       "</style>\n",
       "<table border=\"1\" class=\"dataframe\">\n",
       "  <thead>\n",
       "    <tr style=\"text-align: right;\">\n",
       "      <th></th>\n",
       "      <th>Date</th>\n",
       "      <th>weight</th>\n",
       "      <th>THI</th>\n",
       "      <th>Feed Usage(grms/bird)</th>\n",
       "      <th>Water Usage(L)</th>\n",
       "      <th>numdays</th>\n",
       "      <th>activity</th>\n",
       "    </tr>\n",
       "  </thead>\n",
       "  <tbody>\n",
       "    <tr>\n",
       "      <th>12</th>\n",
       "      <td>2020-10-06</td>\n",
       "      <td>0.3902</td>\n",
       "      <td>25.1</td>\n",
       "      <td>42.0</td>\n",
       "      <td>91.0</td>\n",
       "      <td>13</td>\n",
       "      <td>25.756726</td>\n",
       "    </tr>\n",
       "    <tr>\n",
       "      <th>13</th>\n",
       "      <td>2020-10-07</td>\n",
       "      <td>0.4252</td>\n",
       "      <td>25.4</td>\n",
       "      <td>38.0</td>\n",
       "      <td>97.0</td>\n",
       "      <td>14</td>\n",
       "      <td>22.474335</td>\n",
       "    </tr>\n",
       "    <tr>\n",
       "      <th>14</th>\n",
       "      <td>2020-10-08</td>\n",
       "      <td>0.4864</td>\n",
       "      <td>25.7</td>\n",
       "      <td>72.0</td>\n",
       "      <td>96.0</td>\n",
       "      <td>15</td>\n",
       "      <td>21.836737</td>\n",
       "    </tr>\n",
       "    <tr>\n",
       "      <th>15</th>\n",
       "      <td>2020-10-09</td>\n",
       "      <td>0.5132</td>\n",
       "      <td>25.0</td>\n",
       "      <td>66.0</td>\n",
       "      <td>107.0</td>\n",
       "      <td>16</td>\n",
       "      <td>21.569797</td>\n",
       "    </tr>\n",
       "    <tr>\n",
       "      <th>16</th>\n",
       "      <td>2020-10-10</td>\n",
       "      <td>0.5526</td>\n",
       "      <td>24.6</td>\n",
       "      <td>68.0</td>\n",
       "      <td>103.0</td>\n",
       "      <td>17</td>\n",
       "      <td>26.175830</td>\n",
       "    </tr>\n",
       "  </tbody>\n",
       "</table>\n",
       "</div>"
      ],
      "text/plain": [
       "         Date  weight   THI  Feed Usage(grms/bird)  Water Usage(L)  numdays  \\\n",
       "12 2020-10-06  0.3902  25.1                   42.0            91.0       13   \n",
       "13 2020-10-07  0.4252  25.4                   38.0            97.0       14   \n",
       "14 2020-10-08  0.4864  25.7                   72.0            96.0       15   \n",
       "15 2020-10-09  0.5132  25.0                   66.0           107.0       16   \n",
       "16 2020-10-10  0.5526  24.6                   68.0           103.0       17   \n",
       "\n",
       "     activity  \n",
       "12  25.756726  \n",
       "13  22.474335  \n",
       "14  21.836737  \n",
       "15  21.569797  \n",
       "16  26.175830  "
      ]
     },
     "execution_count": 61,
     "metadata": {},
     "output_type": "execute_result"
    }
   ],
   "source": [
    "exog_21Sep.head()"
   ]
  },
  {
   "cell_type": "code",
   "execution_count": 63,
   "metadata": {},
   "outputs": [
    {
     "data": {
      "image/png": "[encoded data removed]",
      "text/plain": [
       "<Figure size 864x288 with 3 Axes>"
      ]
     },
     "metadata": {
      "needs_background": "light"
     },
     "output_type": "display_data"
    }
   ],
   "source": [
    "fig, axs = plt.subplots(1, 3,figsize=(12,4),sharex=True)\n",
    "# fig.text(0.5, -0.01, 'number of days', ha='center')\n",
    "\n",
    "exog_21Sep[\"THI\"].plot(ax=axs[0])\n",
    "axs[0].set_title('THI')\n",
    "\n",
    "exog_21Sep[\"activity\"].plot(ax=axs[1])\n",
    "axs[1].set_title('activity index')\n",
    "\n",
    "exog_21Sep[\"weight\"].plot(ax=axs[2])\n",
    "axs[2].set_title('weight')\n",
    "\n",
    "axs[1].set_xlabel(\"number of days\")\n",
    "\n",
    "plt.tight_layout()\n",
    "# plt.savefig(\"plot_all.png\",facecolor='white', edgecolor='none')"
   ]
  },
  {
   "cell_type": "code",
   "execution_count": 134,
   "metadata": {},
   "outputs": [],
   "source": [
    "# exog_21Sep.to_csv(\"cleaned_data.csv\")\n",
    "\n"
   ]
  },
  {
   "cell_type": "code",
   "execution_count": null,
   "metadata": {},
   "outputs": [],
   "source": []
  },
  {
   "cell_type": "code",
   "execution_count": null,
   "metadata": {},
   "outputs": [],
   "source": []
  },
  {
   "cell_type": "markdown",
   "metadata": {},
   "source": [
    "### The rest is not implemented in this study\n",
    "### because multilevel model is not apporpriate (dataset too small)\n",
    "### This is kept because if we have more data (from another flock)\n",
    "### this method is useful because it is good at longitudinal data (with each flock as one level/treatment)\n",
    "\n",
    "- GLM(general linear model): \n",
    "Least squares means (+SE) and tests of significance of factors\n",
    "doi:10.4314/jab.v67i0.95053 \n",
    "y (weight) = ax1+bx2+cx3+..."
   ]
  },
  {
   "cell_type": "markdown",
   "metadata": {},
   "source": [
    "Choice of model:\n",
    "\n",
    "https://doi.org/10.1159/000330228\n",
    "\n",
    "also\n",
    "random regression model\n",
    "why? DOI:10.1079/9780851990002.0000\n",
    "page 71, \"A more appropriate way of handling repeated measurements over time is by fitting a random regression model or a covariance function\""
   ]
  },
  {
   "cell_type": "code",
   "execution_count": 64,
   "metadata": {},
   "outputs": [
    {
     "data": {
      "text/plain": [
       "<AxesSubplot:xlabel='Lag', ylabel='Autocorrelation'>"
      ]
     },
     "execution_count": 64,
     "metadata": {},
     "output_type": "execute_result"
    },
    {
     "data": {
      "image/png": "[encoded data removed]",
      "text/plain": [
       "<Figure size 432x288 with 1 Axes>"
      ]
     },
     "metadata": {
      "needs_background": "light"
     },
     "output_type": "display_data"
    }
   ],
   "source": [
    "from pandas.plotting import autocorrelation_plot\n",
    "\n",
    "autocorrelation_plot(weight_21Sep.set_index(\"Date\"))"
   ]
  },
  {
   "cell_type": "code",
   "execution_count": 65,
   "metadata": {},
   "outputs": [
    {
     "name": "stdout",
     "output_type": "stream",
     "text": [
      "Collecting linearmodels\n",
      "  Downloading linearmodels-4.24-cp37-cp37m-manylinux1_x86_64.whl (1.5 MB)\n",
      "\u001b[K     |████████████████████████████████| 1.5 MB 3.9 MB/s eta 0:00:01    |▊                               | 30 kB 3.2 MB/s eta 0:00:01\n",
      "\u001b[?25hRequirement already satisfied: numpy>=1.16 in /opt/conda/envs/sds2020/lib/python3.7/site-packages (from linearmodels) (1.19.1)\n",
      "Requirement already satisfied: mypy-extensions>=0.4 in /opt/conda/envs/sds2020/lib/python3.7/site-packages (from linearmodels) (0.4.3)\n",
      "Requirement already satisfied: pandas>=0.24 in /opt/conda/envs/sds2020/lib/python3.7/site-packages (from linearmodels) (1.1.2)\n",
      "Requirement already satisfied: patsy in /opt/conda/envs/sds2020/lib/python3.7/site-packages (from linearmodels) (0.5.1)\n",
      "Collecting pyhdfe>=0.1\n",
      "  Downloading pyhdfe-0.1.0-py3-none-any.whl (18 kB)\n",
      "Collecting property-cached>=1.6.3\n",
      "  Downloading property_cached-1.6.4-py2.py3-none-any.whl (7.8 kB)\n",
      "Requirement already satisfied: statsmodels>=0.11 in /opt/conda/envs/sds2020/lib/python3.7/site-packages (from linearmodels) (0.12.0)\n",
      "Requirement already satisfied: Cython>=0.29.21 in /opt/conda/envs/sds2020/lib/python3.7/site-packages (from linearmodels) (0.29.21)\n",
      "Requirement already satisfied: scipy>=1.2 in /opt/conda/envs/sds2020/lib/python3.7/site-packages (from linearmodels) (1.5.2)\n",
      "Requirement already satisfied: pytz>=2017.2 in /opt/conda/envs/sds2020/lib/python3.7/site-packages (from pandas>=0.24->linearmodels) (2020.1)\n",
      "Requirement already satisfied: python-dateutil>=2.7.3 in /opt/conda/envs/sds2020/lib/python3.7/site-packages (from pandas>=0.24->linearmodels) (2.8.0)\n",
      "Requirement already satisfied: six in /opt/conda/envs/sds2020/lib/python3.7/site-packages (from patsy->linearmodels) (1.15.0)\n",
      "Installing collected packages: pyhdfe, property-cached, linearmodels\n",
      "Successfully installed linearmodels-4.24 property-cached-1.6.4 pyhdfe-0.1.0\n"
     ]
    }
   ],
   "source": [
    "!pip install linearmodels\n",
    "from linearmodels import PanelOLS\n",
    "from linearmodels import RandomEffects"
   ]
  },
  {
   "cell_type": "code",
   "execution_count": null,
   "metadata": {},
   "outputs": [],
   "source": []
  },
  {
   "cell_type": "code",
   "execution_count": 67,
   "metadata": {},
   "outputs": [
    {
     "name": "stdout",
     "output_type": "stream",
     "text": [
      "        Mixed Linear Model Regression Results\n",
      "=====================================================\n",
      "Model:            MixedLM Dependent Variable: weight \n",
      "No. Observations: 30      Method:             REML   \n",
      "No. Groups:       24      Scale:              0.0057 \n",
      "Min. group size:  1       Log-Likelihood:     18.8086\n",
      "Max. group size:  3       Converged:          Yes    \n",
      "Mean group size:  1.2                                \n",
      "-----------------------------------------------------\n",
      "           Coef.  Std.Err.   z    P>|z| [0.025 0.975]\n",
      "-----------------------------------------------------\n",
      "Intercept  -0.444    0.066 -6.686 0.000 -0.574 -0.314\n",
      "numdays     0.058    0.002 25.028 0.000  0.054  0.063\n",
      "Group Var   0.005    0.094                           \n",
      "=====================================================\n",
      "\n"
     ]
    },
    {
     "name": "stderr",
     "output_type": "stream",
     "text": [
      "/opt/conda/envs/sds2020/lib/python3.7/site-packages/statsmodels/regression/mixed_linear_model.py:2168: ConvergenceWarning: The MLE may be on the boundary of the parameter space.\n",
      "  warnings.warn(msg, ConvergenceWarning)\n"
     ]
    }
   ],
   "source": [
    "\n",
    "import statsmodels.api as sm\n",
    "import statsmodels.formula.api as smf\n",
    "\n",
    "\n",
    "md = smf.mixedlm(\"weight ~ numdays\", exog_21Sep, groups=exog_21Sep[\"THI\"])\n",
    "\n",
    "mdf = md.fit()\n",
    "\n",
    "print(mdf.summary())\n",
    "\n",
    "# mod = RandomEffects(data.clscrap, exog)\n",
    "\n"
   ]
  },
  {
   "cell_type": "code",
   "execution_count": 68,
   "metadata": {},
   "outputs": [
    {
     "name": "stdout",
     "output_type": "stream",
     "text": [
      "Best degree 4 with RMSE 0.044636809883226415\n"
     ]
    },
    {
     "data": {
      "text/plain": [
       "Text(0, 0.5, 'RMSE')"
      ]
     },
     "execution_count": 68,
     "metadata": {},
     "output_type": "execute_result"
    },
    {
     "data": {
      "image/png": "[encoded data removed]",
      "text/plain": [
       "<Figure size 432x288 with 1 Axes>"
      ]
     },
     "metadata": {
      "needs_background": "light"
     },
     "output_type": "display_data"
    }
   ],
   "source": [
    "# ref\n",
    "# https://stackoverflow.com/questions/47442102/how-to-find-the-best-degree-of-polynomials\n",
    "\n",
    "\n",
    "# import numpy as np\n",
    "# np.polynomial.polynomial.polyfit(exog_21Sep.numdays, exog_21Sep.weight, 4)\n",
    "\n",
    "import numpy as np\n",
    "import matplotlib.pyplot as plt \n",
    "\n",
    "from sklearn.linear_model import LinearRegression\n",
    "from sklearn.preprocessing import PolynomialFeatures\n",
    "from sklearn.metrics import mean_squared_error\n",
    "from sklearn.model_selection import train_test_split\n",
    "\n",
    "X = np.array(exog_21Sep.numdays).reshape(-1, 1)\n",
    "y = exog_21Sep.weight\n",
    "\n",
    "x_train, x_test, y_train, y_test = train_test_split(X, y, test_size=0.3)\n",
    "\n",
    "rmses = []\n",
    "degrees = np.arange(1, 10)\n",
    "min_rmse, min_deg = 1e10, 0\n",
    "\n",
    "for deg in degrees:\n",
    "\n",
    "    # Train features\n",
    "    poly_features = PolynomialFeatures(degree=deg, include_bias=False)\n",
    "    x_poly_train = poly_features.fit_transform(x_train)\n",
    "\n",
    "    # Linear regression\n",
    "    poly_reg = LinearRegression()\n",
    "    poly_reg.fit(x_poly_train, y_train)\n",
    "\n",
    "    # Compare with test data\n",
    "    x_poly_test = poly_features.fit_transform(x_test)\n",
    "    poly_predict = poly_reg.predict(x_poly_test)\n",
    "    poly_mse = mean_squared_error(y_test, poly_predict)\n",
    "    poly_rmse = np.sqrt(poly_mse)\n",
    "    rmses.append(poly_rmse)\n",
    "    \n",
    "    # Cross-validation of degree\n",
    "    if min_rmse > poly_rmse:\n",
    "        min_rmse = poly_rmse\n",
    "        min_deg = deg\n",
    "\n",
    "# Plot and present results\n",
    "print('Best degree {} with RMSE {}'.format(min_deg, min_rmse))\n",
    "        \n",
    "fig = plt.figure()\n",
    "ax = fig.add_subplot(111)\n",
    "ax.plot(degrees, rmses)\n",
    "ax.set_yscale('log')\n",
    "ax.set_xlabel('Degree')\n",
    "ax.set_ylabel('RMSE')\n"
   ]
  },
  {
   "cell_type": "code",
   "execution_count": 69,
   "metadata": {},
   "outputs": [
    {
     "data": {
      "image/png": "[encoded data removed]",
      "text/plain": [
       "<Figure size 432x288 with 1 Axes>"
      ]
     },
     "metadata": {
      "needs_background": "light"
     },
     "output_type": "display_data"
    }
   ],
   "source": [
    "from sympy import S, symbols, printing\n",
    "\n",
    "X = exog_21Sep.numdays\n",
    "\n",
    "p = np.polyfit(X, y, 5)\n",
    "f = np.poly1d(p)\n",
    "\n",
    "# calculate new x's and y's\n",
    "x_new = X\n",
    "y_new = f(x_new)\n",
    "\n",
    "x = symbols(\"x\")\n",
    "poly = sum(S(\"{:6.2f}\".format(v))*x**i for i, v in enumerate(p[::-1]))\n",
    "eq_latex = printing.latex(poly)\n",
    "\n",
    "plt.plot(x_new, y_new, label=\"${}$\".format(eq_latex))\n",
    "plt.scatter(X, y, color='r')\n",
    "plt.legend(fontsize=\"small\")\n",
    "plt.show()"
   ]
  },
  {
   "cell_type": "markdown",
   "metadata": {},
   "source": [
    "best fit of time to weight explains 96% percent of variance. \n"
   ]
  },
  {
   "cell_type": "markdown",
   "metadata": {},
   "source": [
    "2-way interaction:\n",
    "e.g., only look at THI/activity(separately), might not have effect on response\n",
    "but if big THI promote activity, "
   ]
  },
  {
   "cell_type": "code",
   "execution_count": null,
   "metadata": {},
   "outputs": [],
   "source": []
  },
  {
   "cell_type": "code",
   "execution_count": null,
   "metadata": {},
   "outputs": [],
   "source": []
  },
  {
   "cell_type": "markdown",
   "metadata": {},
   "source": [
    "Reference:\n",
    "\n",
    "1. fix activity data corruption using polyfit, link [here](https://stackoverflow.com/questions/47442102/how-to-find-the-best-degree-of-polynomials)\n",
    "\n",
    "\n"
   ]
  },
  {
   "cell_type": "code",
   "execution_count": null,
   "metadata": {},
   "outputs": [],
   "source": []
  }
 ],
 "metadata": {
  "kernelspec": {
   "display_name": "Python 3",
   "language": "python",
   "name": "python3"
  },
  "language_info": {
   "codemirror_mode": {
    "name": "ipython",
    "version": 3
   },
   "file_extension": ".py",
   "mimetype": "text/x-python",
   "name": "python",
   "nbconvert_exporter": "python",
   "pygments_lexer": "ipython3",
   "version": "3.7.8"
  }
 },
 "nbformat": 4,
 "nbformat_minor": 4
}
